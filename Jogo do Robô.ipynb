{
 "cells": [
  {
   "cell_type": "markdown",
   "metadata": {},
   "source": [
    "<h1> Jogo do Robô </h1>\n",
    "\n",
    "Vamos fazer um jogo que permita um robô ande por uma matriz 10x10 e encontre recompensas. \n"
   ]
  },
  {
   "cell_type": "markdown",
   "metadata": {},
   "source": [
    "<h2> Imports </h2> "
   ]
  },
  {
   "cell_type": "code",
   "execution_count": 155,
   "metadata": {
    "collapsed": true
   },
   "outputs": [],
   "source": [
    "# Realiza plot de grafico \n",
    "import matplotlib.pyplot as plt\n",
    "# Importa os botões de interação com o usuário\n",
    "import ipywidgets as widgets\n",
    "# Mostra as informações do segundo import\n",
    "from IPython.display import display\n",
    "# Para colocar as recompensas de forma aleatória no mapa\n",
    "import random"
   ]
  },
  {
   "cell_type": "markdown",
   "metadata": {},
   "source": [
    "<h2> Classes </h2> \n",
    "\n",
    "Objetos e funções do Robô."
   ]
  },
  {
   "cell_type": "code",
   "execution_count": 138,
   "metadata": {
    "collapsed": true
   },
   "outputs": [],
   "source": [
    "class Point:   \n",
    "    \n",
    "    def __init__(self, x, y):\n",
    "        self.x = x\n",
    "        self.y = y  \n",
    "\n",
    "    def __str__(self):\n",
    "        return '<%s, %s>' % (self.x, self.y)    "
   ]
  },
  {
   "cell_type": "code",
   "execution_count": 139,
   "metadata": {
    "collapsed": true
   },
   "outputs": [],
   "source": [
    "class Reward(Point):\n",
    "    \n",
    "    def __init__(self, x, y, name):\n",
    "        super(Reward, self).__init__(x, y)\n",
    "        self.name = name\n",
    "        \n",
    "    def __str__(self):\n",
    "        return '<%s, %s>: %s' % (self.x, self.y, self.name)\n",
    "    \n",
    "    # Método Magic https://pythonhelp.wordpress.com/2013/03/11/os-metodos-magicos-de-python/\n",
    "    def __repr__(self):\n",
    "        return '<Reward> %s' % str(self)"
   ]
  },
  {
   "cell_type": "code",
   "execution_count": 140,
   "metadata": {
    "collapsed": true
   },
   "outputs": [],
   "source": [
    "class Robo(Point): \n",
    "    \n",
    "    def move_up(self):\n",
    "        if self.y < 10:            \n",
    "            self.y = self.y + 1            \n",
    "        else:\n",
    "            print('Movimento Proibido')\n",
    "        \n",
    "    def move_down(self):\n",
    "        if self.y > 0:\n",
    "            self.y = self.y - 1 \n",
    "        else:\n",
    "            print('Movimento Proibido')\n",
    "\n",
    "    def move_left(self):\n",
    "        if self.x > 0:\n",
    "            self.x = self.x - 1\n",
    "        else:\n",
    "            print('Movimento Proibido')\n",
    "        \n",
    "    def move_right(self):\n",
    "        if self.x < 10:  \n",
    "            self.x = self.x + 1 \n",
    "        else:\n",
    "            print('Movimento Proibido')\n",
    "            \n",
    "    def print_plot(self):\n",
    "        plt.axis([-1, 10, -1, 10])\n",
    "        plt.plot( self.x, self.y, 'go') \n",
    "        plt.show()                        "
   ]
  },
  {
   "cell_type": "code",
   "execution_count": 141,
   "metadata": {
    "collapsed": true
   },
   "outputs": [],
   "source": [
    "def check_reward(Robo, Reward):\n",
    "    for Reward in rewards: \n",
    "        if Reward.x == Robo.x and Reward.y == Robo.y:\n",
    "            print(\"O robô achou uma recopensa: %s\" % Reward.name)"
   ]
  },
  {
   "cell_type": "markdown",
   "metadata": {},
   "source": [
    "<h2> Recompensas </h2>"
   ]
  },
  {
   "cell_type": "code",
   "execution_count": 142,
   "metadata": {
    "collapsed": true
   },
   "outputs": [],
   "source": [
    "rw1 = Reward(random.randint(0,10), random.randint(0,10), 'Moeda')\n",
    "rw2 = Reward(random.randint(0,10), random.randint(0,10), 'Gás')\n",
    "rw3 = Reward(random.randint(0,10), random.randint(0,10), 'Arma')\n",
    "rewards = [rw1, rw2, rw3]"
   ]
  },
  {
   "cell_type": "markdown",
   "metadata": {},
   "source": [
    "<h2> Botões para interação com o usuário </h2>"
   ]
  },
  {
   "cell_type": "code",
   "execution_count": 156,
   "metadata": {},
   "outputs": [
    {
     "data": {
      "application/vnd.jupyter.widget-view+json": {
       "model_id": "ceaa50ea2c5b491895c3f8b3e6b1414a"
      }
     },
     "metadata": {},
     "output_type": "display_data"
    }
   ],
   "source": [
    "class Button():\n",
    "\n",
    "    def __init__(self, desc, btnstyle = ''):\n",
    "        self.desc = desc\n",
    "        self.btnstyle = btnstyle              \n",
    "    \n",
    "    def btn(self):\n",
    "        btn = widgets.Button(description=self.desc, disabled=False, button_style= self.btnstyle , tooltip='check')\n",
    "        return btn\n",
    "    \n",
    "r1 = Robo(0,0)\n",
    "\n",
    "#Botões\n",
    "btnUp = Button('Up')\n",
    "btnDown = Button('Down')\n",
    "btnRight = Button('Right')\n",
    "btnLeft = Button('Left')\n",
    "btnShow = Button('Show')\n",
    "\n",
    "up = btnUp.btn()\n",
    "Down = btnDown.btn()\n",
    "Right = btnRight.btn()\n",
    "Left = btnLeft.btn()\n",
    "Show = btnShow.btn()\n",
    "\n",
    "def move_right(self):\n",
    "    r1.move_right()\n",
    "    check_reward(r1, rewards)\n",
    "    \n",
    "def move_left(self):\n",
    "    r1.move_left()\n",
    "    check_reward(r1, rewards)\n",
    "\n",
    "def move_up(self):\n",
    "    r1.move_up()     \n",
    "    check_reward(r1, rewards)\n",
    "    \n",
    "def move_down(self):\n",
    "    r1.move_down()\n",
    "    check_reward(r1, rewards)\n",
    "\n",
    "def show_graph(self):\n",
    "    r1.print_plot()    \n",
    "  \n",
    "Left.on_click(move_left)\n",
    "Right.on_click(move_right)\n",
    "up.on_click(move_up)\n",
    "Down.on_click(move_down)\n",
    "Show.on_click(show_graph) \n",
    "display(widgets.HBox((Left, Right, Down, up, Show)))    "
   ]
  },
  {
   "cell_type": "code",
   "execution_count": 152,
   "metadata": {},
   "outputs": [
    {
     "data": {
      "text/plain": [
       "[<Reward> <1, 0>: Moeda, <Reward> <6, 8>: Gás, <Reward> <9, 5>: Arma]"
      ]
     },
     "execution_count": 152,
     "metadata": {},
     "output_type": "execute_result"
    }
   ],
   "source": [
    "rewards"
   ]
  }
 ],
 "metadata": {
  "kernelspec": {
   "display_name": "Python 3",
   "language": "python",
   "name": "python3"
  },
  "language_info": {
   "codemirror_mode": {
    "name": "ipython",
    "version": 3
   },
   "file_extension": ".py",
   "mimetype": "text/x-python",
   "name": "python",
   "nbconvert_exporter": "python",
   "pygments_lexer": "ipython3",
   "version": "3.6.1"
  }
 },
 "nbformat": 4,
 "nbformat_minor": 2
}
