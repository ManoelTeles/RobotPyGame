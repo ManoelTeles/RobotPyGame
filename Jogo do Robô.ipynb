{
 "cells": [
  {
   "cell_type": "markdown",
   "metadata": {},
   "source": [
    "<h1> Jogo do Robô </h1>\n",
    "\n",
    "Vamos fazer um jogo que permita um robô ande por uma matriz 10x10 e encontre recompensas. \n"
   ]
  },
  {
   "cell_type": "code",
   "execution_count": 231,
   "metadata": {},
   "outputs": [],
   "source": [
    "import matplotlib.pyplot as plt\n",
    "import ipywidgets as widgets\n",
    "from IPython.display import display\n",
    "from ipywidgets import interact, interactive, fixed, interact_manual"
   ]
  },
  {
   "cell_type": "code",
   "execution_count": null,
   "metadata": {
    "collapsed": true
   },
   "outputs": [],
   "source": []
  },
  {
   "cell_type": "code",
   "execution_count": 218,
   "metadata": {
    "collapsed": true
   },
   "outputs": [],
   "source": [
    "class Robo:\n",
    "    \n",
    "    def __init__(self, x, y):\n",
    "        self.x = x\n",
    "        self.y = y    \n",
    "        \n",
    "    def move_up(self):\n",
    "        if self.y < 10:            \n",
    "            self.y = self.y + 1            \n",
    "        else:\n",
    "            print('Movimento Proibido')\n",
    "        \n",
    "    def move_down(self):\n",
    "        if self.y > 0:\n",
    "            self.y = self.y - 1 \n",
    "        else:\n",
    "            print('Movimento Proibido')\n",
    "\n",
    "    def move_left(self):\n",
    "        if self.x > 0:\n",
    "            self.x = self.x - 1\n",
    "        else:\n",
    "            print('Movimento Proibido')\n",
    "        \n",
    "    def move_right(self):\n",
    "        if self.x < 10:  \n",
    "            self.x = self.x + 1 \n",
    "        else:\n",
    "            print('Movimento Proibido')\n",
    "            \n",
    "    def print_plot(self):\n",
    "        plt.axis([0, 10, 0, 10])\n",
    "        plt.plot( self.x, self.y, 'go') \n",
    "        #plt.show()                        "
   ]
  },
  {
   "cell_type": "markdown",
   "metadata": {},
   "source": [
    "<h2> Botões para interação com o usuário </h2>"
   ]
  },
  {
   "cell_type": "code",
   "execution_count": 232,
   "metadata": {},
   "outputs": [
    {
     "data": {
      "application/vnd.jupyter.widget-view+json": {
       "model_id": "1f1dca2eca43454593942637ec1d03e4",
       "version_major": 2,
       "version_minor": 0
      },
      "text/plain": [
       "A Jupyter Widget"
      ]
     },
     "metadata": {},
     "output_type": "display_data"
    }
   ],
   "source": [
    "buttonRight = widgets.Button(\n",
    "    description='---->',\n",
    "    disabled=False,\n",
    "    button_style='', # 'success', 'info', 'warning', 'danger' or ''\n",
    "    tooltip='check'\n",
    ")\n",
    "\n",
    "buttonLeft = widgets.Button(\n",
    "    description='<----',\n",
    "    disabled=False,\n",
    "    button_style='', # 'success', 'info', 'warning', 'danger' or ''\n",
    "    tooltip='check'\n",
    ")\n",
    "\n",
    "def move_right(self):\n",
    "    r1.move_right()\n",
    "    r1.print_plot()\n",
    "\n",
    "def move_left(self):\n",
    "    r1.move_left()\n",
    "    r1.print_plot()\n",
    "  \n",
    "buttonLeft.on_click(move_left)\n",
    "buttonRight.on_click(move_right)\n",
    "display(widgets.HBox((buttonLeft,buttonRight)))"
   ]
  }
 ],
 "metadata": {
  "kernelspec": {
   "display_name": "Python 3",
   "language": "python",
   "name": "python3"
  },
  "language_info": {
   "codemirror_mode": {
    "name": "ipython",
    "version": 3
   },
   "file_extension": ".py",
   "mimetype": "text/x-python",
   "name": "python",
   "nbconvert_exporter": "python",
   "pygments_lexer": "ipython3",
   "version": "3.6.3"
  }
 },
 "nbformat": 4,
 "nbformat_minor": 2
}
