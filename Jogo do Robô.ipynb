{
 "cells": [
  {
   "cell_type": "markdown",
   "metadata": {},
   "source": [
    "<h1> Jogo do Robô </h1>\n",
    "\n",
    "Vamos fazer um jogo que permita um robô ande por uma matriz 10x10 e encontre recompensas. \n"
   ]
  },
  {
   "cell_type": "code",
   "execution_count": 27,
   "metadata": {
    "collapsed": true
   },
   "outputs": [],
   "source": [
    "import matplotlib.pyplot as plt\n",
    "import ipywidgets as widgets\n",
    "from IPython.display import display\n",
    "from ipywidgets import interact, interactive, fixed, interact_manual"
   ]
  },
  {
   "cell_type": "code",
   "execution_count": 8,
   "metadata": {
    "collapsed": true
   },
   "outputs": [],
   "source": [
    "class Point:   \n",
    "    \n",
    "    def __init__(self, x, y):\n",
    "        self.x = x\n",
    "        self.y = y  \n",
    "    "
   ]
  },
  {
   "cell_type": "code",
   "execution_count": 9,
   "metadata": {},
   "outputs": [],
   "source": [
    "class Reward(Point):\n",
    "    \n",
    "    def __init__(self, x, y, name):\n",
    "        super(Reward, self).__init__(x, y)\n",
    "        self.name = name"
   ]
  },
  {
   "cell_type": "code",
   "execution_count": 60,
   "metadata": {
    "collapsed": true
   },
   "outputs": [],
   "source": [
    "reward1 = Reward(1, 1,'Moeda de Ouro')"
   ]
  },
  {
   "cell_type": "code",
   "execution_count": 49,
   "metadata": {
    "collapsed": true
   },
   "outputs": [],
   "source": [
    "class Robo(Point): \n",
    "    \n",
    "    def move_up(self):\n",
    "        if self.y < 10:            \n",
    "            self.y = self.y + 1            \n",
    "        else:\n",
    "            print('Movimento Proibido')\n",
    "        \n",
    "    def move_down(self):\n",
    "        if self.y > 0:\n",
    "            self.y = self.y - 1 \n",
    "        else:\n",
    "            print('Movimento Proibido')\n",
    "\n",
    "    def move_left(self):\n",
    "        if self.x > 0:\n",
    "            self.x = self.x - 1\n",
    "        else:\n",
    "            print('Movimento Proibido')\n",
    "        \n",
    "    def move_right(self):\n",
    "        if self.x < 10:  \n",
    "            self.x = self.x + 1 \n",
    "        else:\n",
    "            print('Movimento Proibido')\n",
    "            \n",
    "    def print_plot(self):\n",
    "        plt.axis([-1, 10, -1, 10])\n",
    "        plt.plot( self.x, self.y, 'go') \n",
    "        plt.show()                        "
   ]
  },
  {
   "cell_type": "markdown",
   "metadata": {},
   "source": [
    "<h2> Botões para interação com o usuário </h2>"
   ]
  },
  {
   "cell_type": "code",
   "execution_count": 57,
   "metadata": {},
   "outputs": [],
   "source": [
    "r1 = Robo(0,0)"
   ]
  },
  {
   "cell_type": "code",
   "execution_count": 66,
   "metadata": {},
   "outputs": [
    {
     "data": {
      "application/vnd.jupyter.widget-view+json": {
       "model_id": "e5cafa2e83c0479d965fcee9b769f669"
      }
     },
     "metadata": {},
     "output_type": "display_data"
    }
   ],
   "source": [
    "buttonRight = widgets.Button(\n",
    "    description='Right',\n",
    "    disabled=False,\n",
    "    button_style='', # 'success', 'info', 'warning', 'danger' or ''\n",
    "    tooltip='check'\n",
    ")\n",
    "\n",
    "buttonLeft = widgets.Button(\n",
    "    description='Left',\n",
    "    disabled=False,\n",
    "    button_style='', # 'success', 'info', 'warning', 'danger' or ''\n",
    "    tooltip='check'\n",
    ")\n",
    "\n",
    "buttonShow = widgets.Button(\n",
    "    description='Show',\n",
    "    disabled=False,\n",
    "    button_style='', # 'success', 'info', 'warning', 'danger' or ''\n",
    "    tooltip='check'\n",
    ")\n",
    "\n",
    "buttonDown = widgets.Button(\n",
    "    description='Down',\n",
    "    disabled=False,\n",
    "    button_style='', # 'success', 'info', 'warning', 'danger' or ''\n",
    "    tooltip='check'\n",
    ")\n",
    "\n",
    "buttonUp = widgets.Button(\n",
    "    description='Up',\n",
    "    disabled=False,\n",
    "    button_style='', # 'success', 'info', 'warning', 'danger' or ''\n",
    "    tooltip='check'\n",
    ")\n",
    "\n",
    "def move_right(self):\n",
    "    r1.move_right()\n",
    "    #r1.print_plot()\n",
    "\n",
    "def move_left(self):\n",
    "    r1.move_left()\n",
    "    #r1.print_plot()\n",
    "\n",
    "def move_up(self):\n",
    "    r1.move_up()\n",
    "    #r1.print_plot()        \n",
    "    \n",
    "def move_down(self):\n",
    "    r1.move_down()\n",
    "    #r1.print_plot()        \n",
    "\n",
    "def show_graph(self):\n",
    "    r1.print_plot()    \n",
    "  \n",
    "buttonLeft.on_click(move_left)\n",
    "buttonRight.on_click(move_right)\n",
    "buttonUp.on_click(move_up)\n",
    "buttonDown.on_click(move_down)\n",
    "buttonShow.on_click(show_graph) \n",
    "display(widgets.HBox((buttonLeft, buttonRight, buttonUp, buttonDown,buttonShow)))"
   ]
  },
  {
   "cell_type": "code",
   "execution_count": null,
   "metadata": {},
   "outputs": [],
   "source": []
  }
 ],
 "metadata": {
  "kernelspec": {
   "display_name": "Python 3",
   "language": "python",
   "name": "python3"
  },
  "language_info": {
   "codemirror_mode": {
    "name": "ipython",
    "version": 3
   },
   "file_extension": ".py",
   "mimetype": "text/x-python",
   "name": "python",
   "nbconvert_exporter": "python",
   "pygments_lexer": "ipython3",
   "version": "3.6.1"
  }
 },
 "nbformat": 4,
 "nbformat_minor": 2
}
